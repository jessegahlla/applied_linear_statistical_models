{
 "cells": [
  {
   "cell_type": "code",
   "execution_count": 123,
   "metadata": {},
   "outputs": [],
   "source": [
    "import numpy as np\n",
    "from sklearn import linear_model\n",
    "import matplotlib.pyplot as plt\n",
    "import pandas as pd\n",
    "from scipy.stats import t"
   ]
  },
  {
   "cell_type": "markdown",
   "metadata": {},
   "source": [
    "# 1.22\n",
    "**Plastic hardness.** Refer to Problems 1.3 and 1.14. Sixteen batches of the plastic were made, and from each batch one test item was molded. Each test item was randomly assigned to one of the four predetermined time levels, and the hardness was measured after the assigned elapsed time. The results are shown below; X is the elapsed time in hours? and Y is hardness in Brinell units. Assume that first-order regression model (1.1) is appropriate."
   ]
  },
  {
   "cell_type": "markdown",
   "metadata": {},
   "source": [
    "a. Obtain the estimated regression function. Plot the estimated regression function and the data. Does a linear regression function appear to give a good fit here?"
   ]
  },
  {
   "cell_type": "markdown",
   "metadata": {},
   "source": [
    "Equation for an estimated regression function:\n",
    "\n",
    "$$\\hat{Y}_i = b_0 + b_1X_i$$\n",
    "\n",
    "where the least square estimators $b_0$ and $b_1$ are given by:\n",
    "\n",
    "$$b_0 = \\bar{Y} - b_1\\bar{X}$$\n",
    "$$b_1 = \\sum \\frac{(Y_i - \\bar{Y})(X_i - \\bar{X})}{(X_i - \\bar{X})^2}$$"
   ]
  },
  {
   "cell_type": "code",
   "execution_count": 54,
   "metadata": {},
   "outputs": [],
   "source": [
    "dataset_filename = 'CH01PR22.txt'\n",
    "df_hardness = pd.read_csv(dataset_filename, header=None, delimiter=',')\n",
    "df_hardness.columns = ['hardness','time']"
   ]
  },
  {
   "cell_type": "code",
   "execution_count": 77,
   "metadata": {},
   "outputs": [
    {
     "data": {
      "text/plain": [
       "LinearRegression(copy_X=True, fit_intercept=True, n_jobs=1, normalize=False)"
      ]
     },
     "execution_count": 77,
     "metadata": {},
     "output_type": "execute_result"
    }
   ],
   "source": [
    "x = df_hardness['time'].as_matrix()\n",
    "x = x.reshape(len(x),1)\n",
    "y = df_hardness['hardness'].as_matrix()\n",
    "lm = linear_model.LinearRegression()\n",
    "lm.fit(x, y)"
   ]
  },
  {
   "cell_type": "code",
   "execution_count": 81,
   "metadata": {},
   "outputs": [],
   "source": [
    "prediction_y = lm.predict(x)"
   ]
  },
  {
   "cell_type": "code",
   "execution_count": 84,
   "metadata": {},
   "outputs": [
    {
     "data": {
      "image/png": "[encoded data removed]",
      "text/plain": [
       "<matplotlib.figure.Figure at 0x1189a3470>"
      ]
     },
     "metadata": {},
     "output_type": "display_data"
    }
   ],
   "source": [
    "plt.scatter(df_hardness['time'], df_hardness['hardness'], color='black', label='observations')\n",
    "plt.plot(df_hardness['time'], prediction_y, color='blue', label='estimated')\n",
    "plt.legend()\n",
    "plt.xlabel('Elapsed Time (hours)')\n",
    "plt.ylabel('Hardness (Brinell Units)')\n",
    "plt.show()"
   ]
  },
  {
   "cell_type": "markdown",
   "metadata": {},
   "source": [
    "The estimated linear regression function appears to give a good fit. There doesn't seem to be an outliers of the data. The $x$-axis is non-continuous, though I'm not sure that's a problem yet. The range of the fit is between 15 and 40 hours"
   ]
  },
  {
   "cell_type": "markdown",
   "metadata": {},
   "source": [
    "b. Obtain a point estimate of the mean hardness when $X = 40$ hours.\n",
    "\n",
    "The point estimate of the mean hardness when $X = 40$ hours is given by\n",
    "\n",
    "$$E\\lbrack Y_{x=40}\\rbrack = b_0 + b_1(40)$$"
   ]
  },
  {
   "cell_type": "code",
   "execution_count": 85,
   "metadata": {},
   "outputs": [
    {
     "name": "stdout",
     "output_type": "stream",
     "text": [
      "[ 249.975]\n"
     ]
    }
   ],
   "source": [
    "Y = lm.intercept_ + lm.coef_*40\n",
    "print(Y)"
   ]
  },
  {
   "cell_type": "markdown",
   "metadata": {},
   "source": [
    "c. Obtain a point estimate of the change in mean hardness when $X$ increases by 1 hour"
   ]
  },
  {
   "cell_type": "code",
   "execution_count": 86,
   "metadata": {},
   "outputs": [
    {
     "name": "stdout",
     "output_type": "stream",
     "text": [
      "[ 2.034375]\n"
     ]
    }
   ],
   "source": [
    "Y_plus_one_hour = lm.intercept_ + lm.coef_*41\n",
    "change = Y_plus_one_hour - Y\n",
    "print(change)"
   ]
  },
  {
   "cell_type": "markdown",
   "metadata": {},
   "source": [
    "An increase in one hour of elapsed time results in approximately 2.03 brinell unit increase in hardness. This is simply the slope of the regression line."
   ]
  },
  {
   "cell_type": "markdown",
   "metadata": {},
   "source": [
    "# 1.26\n",
    "Refer to **Plastic hardness** Problem 1.22\n",
    "\n",
    "a. Obtain the residuals $e_i$. Do they sum to zero in accord with (1.17)?"
   ]
  },
  {
   "cell_type": "code",
   "execution_count": 89,
   "metadata": {},
   "outputs": [],
   "source": [
    "residuals = y - prediction_y"
   ]
  },
  {
   "cell_type": "code",
   "execution_count": 91,
   "metadata": {},
   "outputs": [
    {
     "data": {
      "text/plain": [
       "-0.0"
      ]
     },
     "execution_count": 91,
     "metadata": {},
     "output_type": "execute_result"
    }
   ],
   "source": [
    "np.round(np.sum(residuals),2)"
   ]
  },
  {
   "cell_type": "markdown",
   "metadata": {},
   "source": [
    "The residuals sum to zero as expected.\n",
    "\n",
    "b. Estimate $\\sigma^2$ and $\\sigma$. In what units is $\\sigma$ expressed?\n",
    "\n",
    "The estimate of $\\sigma^2$ can be gotten from the $MSE$:\n",
    "\n",
    "$$\\hat{\\sigma}^2 = MSE = \\frac{\\sum(Y_i - \\hat{Y}_i)^2}{n-2}$$"
   ]
  },
  {
   "cell_type": "code",
   "execution_count": 95,
   "metadata": {},
   "outputs": [
    {
     "name": "stdout",
     "output_type": "stream",
     "text": [
      "10.4589285714\n",
      "3.23402668069\n"
     ]
    }
   ],
   "source": [
    "mse = np.sum(np.power(residuals,2))/(len(residuals)-2)\n",
    "print(mse)\n",
    "standard_deviation = np.sqrt(variance)\n",
    "print(standard_deviation)"
   ]
  },
  {
   "cell_type": "markdown",
   "metadata": {},
   "source": [
    "The standard deviation is in the same units as the response variable (Brinell units)"
   ]
  },
  {
   "cell_type": "markdown",
   "metadata": {},
   "source": [
    "# Bonus\n",
    "Identify the estimated standard error for each of the estimated intercept and slope and get a 95% confidence interval for each of $\\beta_0$ and $\\beta_1$. You can get the confidence intervals directly from R or SAS (or Python) but also write down how they are obtained from the point estimate, standard error and an appropriate t-value, showing what numerical values are involved.\n",
    "\n",
    "\n",
    "\n",
    "The estimated standard errors for the estimated intercept and slope are given as follows:\n",
    "\n",
    "$$\\sigma\\{b_1\\} = \\sqrt{\\frac{\\sigma^2}{\\sum (X_i - \\bar{X})^2}}$$ \n",
    "and\n",
    "$$\\sigma\\{b_0\\} = \\sqrt{\\sigma^2 \\lbrack\\frac{1}{2} + \\frac{\\bar{X}^2}{\\sum (X_i - \\bar{X})^2}\\rbrack}$$ \n",
    "\n",
    "both can be estimated by the point estimator $s^2\\{b_{10}\\}$:\n",
    "$$s\\{b_1\\} = \\sqrt{\\frac{MSE}{\\sum (X_i - \\bar{X})^2}}$$ \n",
    "and\n",
    "$$s\\{b_0\\} = \\sqrt{MSE \\lbrack\\frac{1}{n} + \\frac{\\bar{X}^2}{\\sum (X_i - \\bar{X})^2}\\rbrack}$$ \n"
   ]
  },
  {
   "cell_type": "code",
   "execution_count": 118,
   "metadata": {},
   "outputs": [
    {
     "name": "stdout",
     "output_type": "stream",
     "text": [
      "0.0903937937384\n"
     ]
    }
   ],
   "source": [
    "estimated_variance_b1 = mse/np.sum(np.power((x - np.mean(x)),2))\n",
    "estimated_standard_error_b1 = np.sqrt(estimated_variance_b1)\n",
    "print(estimated_standard_error_b1)"
   ]
  },
  {
   "cell_type": "code",
   "execution_count": 119,
   "metadata": {},
   "outputs": [
    {
     "name": "stdout",
     "output_type": "stream",
     "text": [
      "2.65702404688\n"
     ]
    }
   ],
   "source": [
    "estimated_variance_b0 = mse*((1/len(x)) + (np.power(np.mean(x),2)/np.sum(np.power(x - np.mean(x),2))))\n",
    "estimated_standard_error_b0 = np.sqrt(estimated_variance_b0)\n",
    "print(estimated_standard_error_b0)"
   ]
  },
  {
   "cell_type": "code",
   "execution_count": 125,
   "metadata": {
    "collapsed": true
   },
   "outputs": [],
   "source": [
    "alpha = 0.05\n",
    "\n",
    "b1_bounds = t.ppf(1-alpha/2, len(x)-2)*estimated_standard_error_b1\n",
    "b0_bounds = t.ppf(1-alpha/2, len(x)-2)*estimated_standard_error_b0"
   ]
  },
  {
   "cell_type": "code",
   "execution_count": 134,
   "metadata": {},
   "outputs": [
    {
     "name": "stdout",
     "output_type": "stream",
     "text": [
      "95% confidence interval for b0 is given by: 2.034 +/- 0.194\n",
      "95% confidence interval for b1 is given by: 168.6 +/- 5.699\n"
     ]
    }
   ],
   "source": [
    "print('95% confidence interval for b0 is given by: {int} +/- {int_bound}'.format(int=np.round(lm.coef_[0],3), int_bound=np.round(b1_bounds,3)))\n",
    "print('95% confidence interval for b1 is given by: {int} +/- {int_bound}'.format(int=np.round(lm.intercept_,3), int_bound=np.round(b0_bounds,3)))"
   ]
  },
  {
   "cell_type": "markdown",
   "metadata": {},
   "source": [
    "# 2.7\n",
    "Refer to the **Plastic hardness** Problem 1.22\n",
    "\n",
    "a. Estimate the change in mean hardness when the elapsed time increases by one hour. Use a 99 percent confidence interval. Interpret your interval estimate.\n",
    "\n",
    "The change in the mean hardness when the elapsed time increases by an hour is given by $b_1 = 2.034$. I will need to calculate the 99 percent confidence interval around this ${b_1}$.\n",
    "\n",
    "Note:\n",
    "\n",
    "$$E\\lbrack b_1 \\rbrack = \\beta_1$$\n",
    "$$\\sigma^2\\lbrack b_1 \\rbrack = \\frac{\\sigma^2}{\\sum (X_i - \\bar{X})^2}$$\n",
    "\n",
    "The latter can be estimated from:\n",
    "\n",
    "$$s^2\\lbrack b_1 \\rbrack = \\frac{MSE}{\\sum (X_i - \\bar{X})^2}$$"
   ]
  },
  {
   "cell_type": "code",
   "execution_count": 152,
   "metadata": {},
   "outputs": [],
   "source": [
    "b = np.sum(np.power((x - np.mean(x)),2))\n",
    "variance = mse / b\n",
    "standard_error = np.sqrt(variance)"
   ]
  },
  {
   "cell_type": "code",
   "execution_count": 153,
   "metadata": {},
   "outputs": [
    {
     "name": "stdout",
     "output_type": "stream",
     "text": [
      "2.034375 +- 0.2690881080991692\n"
     ]
    }
   ],
   "source": [
    "new_bounds = t.ppf(1 - 0.01/2, len(x)-2)*standard_error\n",
    "print('{nm} +- {nb}'.format(nm=(lm.coef_)[0], nb=new_bounds))"
   ]
  },
  {
   "cell_type": "markdown",
   "metadata": {},
   "source": [
    "b. The plastic manufacturer has stated that the mean hardness should increase by 2 Brinell units per hour. Conduct a two-sided test to decided whether this standard is being satisfied; use $\\alpha = .01$. State the alternatives, decision rule, and conclusion. What is the *P*-value of the test?\n",
    "\n",
    "The two-sided test is defined as follows:\n",
    "\n",
    "$$H_0: t^* = 0$$\n",
    "$$H_a: t^* \\ne 0$$\n",
    "where\n",
    "$$t^* = \\frac{b_1 - 2}{s \\{b_1\\}}$$\n",
    "\n",
    "The decision rule is:\n",
    "\n",
    "If $|t^*| \\leq t(1-\\alpha/2;n-2)s\\{b_1\\}$, conclude $H_0$.\n",
    "\n",
    "If $|t^*| > t(1-\\alpha/2;n-2)s\\{b_1\\}$, conclude $H_a$."
   ]
  },
  {
   "cell_type": "code",
   "execution_count": 195,
   "metadata": {},
   "outputs": [
    {
     "name": "stdout",
     "output_type": "stream",
     "text": [
      "0.380280532306\n"
     ]
    }
   ],
   "source": [
    "alpha = 0.01 # Significance Level\n",
    "dof = len(x) # Degrees of freedom\n",
    "\n",
    "t_stat = (lm.coef_ - 2)/standard_error\n",
    "print(t_stat[0])"
   ]
  },
  {
   "cell_type": "code",
   "execution_count": 196,
   "metadata": {},
   "outputs": [
    {
     "data": {
      "text/plain": [
       "2.97684273411266"
      ]
     },
     "execution_count": 196,
     "metadata": {},
     "output_type": "execute_result"
    }
   ],
   "source": [
    "np.abs(t.ppf(1-(alpha/2), dof-2))"
   ]
  },
  {
   "cell_type": "markdown",
   "metadata": {},
   "source": [
    "Because $t^* = 0.38 < 2.98$, we reject the null hypothesis."
   ]
  },
  {
   "cell_type": "code",
   "execution_count": 197,
   "metadata": {},
   "outputs": [
    {
     "name": "stdout",
     "output_type": "stream",
     "text": [
      "70.94444557701097\n"
     ]
    }
   ],
   "source": [
    "pct = 2*t.sf(np.abs(t_stat), dof-2)[0]\n",
    "print('{pp}'.format(pp=100.0*pct))"
   ]
  },
  {
   "cell_type": "code",
   "execution_count": null,
   "metadata": {
    "collapsed": true
   },
   "outputs": [],
   "source": []
  }
 ],
 "metadata": {
  "kernelspec": {
   "display_name": "Python 3",
   "language": "python",
   "name": "python3"
  },
  "language_info": {
   "codemirror_mode": {
    "name": "ipython",
    "version": 3
   },
   "file_extension": ".py",
   "mimetype": "text/x-python",
   "name": "python",
   "nbconvert_exporter": "python",
   "pygments_lexer": "ipython3",
   "version": "3.6.1"
  }
 },
 "nbformat": 4,
 "nbformat_minor": 2
}
