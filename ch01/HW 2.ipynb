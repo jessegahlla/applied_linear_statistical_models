{
 "cells": [
  {
   "cell_type": "code",
   "execution_count": 1,
   "metadata": {
    "collapsed": true
   },
   "outputs": [],
   "source": [
    "import numpy as np\n",
    "from sklearn import linear_model\n",
    "import matplotlib.pyplot as plt\n",
    "import pandas as pd\n",
    "from scipy.stats import t\n",
    "from scipy.stats import f"
   ]
  },
  {
   "cell_type": "markdown",
   "metadata": {},
   "source": [
    "# 1.22\n",
    "**Plastic hardness.** Refer to Problems 1.3 and 1.14. Sixteen batches of the plastic were made, and from each batch one test item was molded. Each test item was randomly assigned to one of the four predetermined time levels, and the hardness was measured after the assigned elapsed time. The results are shown below; X is the elapsed time in hours? and Y is hardness in Brinell units. Assume that first-order regression model (1.1) is appropriate."
   ]
  },
  {
   "cell_type": "markdown",
   "metadata": {},
   "source": [
    "a. Obtain the estimated regression function. Plot the estimated regression function and the data. Does a linear regression function appear to give a good fit here?"
   ]
  },
  {
   "cell_type": "markdown",
   "metadata": {},
   "source": [
    "Equation for an estimated regression function:\n",
    "\n",
    "$$\\hat{Y}_i = b_0 + b_1X_i$$\n",
    "\n",
    "where the least square estimators $b_0$ and $b_1$ are given by:\n",
    "\n",
    "$$b_0 = \\bar{Y} - b_1\\bar{X}$$\n",
    "$$b_1 = \\sum \\frac{(Y_i - \\bar{Y})(X_i - \\bar{X})}{(X_i - \\bar{X})^2}$$"
   ]
  },
  {
   "cell_type": "code",
   "execution_count": 3,
   "metadata": {
    "collapsed": true
   },
   "outputs": [],
   "source": [
    "dataset_filename = 'CH01PR22.txt'\n",
    "df_hardness = pd.read_csv(dataset_filename, header=None, delimiter=',')\n",
    "df_hardness.columns = ['hardness','time']"
   ]
  },
  {
   "cell_type": "code",
   "execution_count": 4,
   "metadata": {},
   "outputs": [
    {
     "data": {
      "text/plain": [
       "LinearRegression(copy_X=True, fit_intercept=True, n_jobs=1, normalize=False)"
      ]
     },
     "execution_count": 4,
     "metadata": {},
     "output_type": "execute_result"
    }
   ],
   "source": [
    "x = df_hardness['time'].as_matrix()\n",
    "x = x.reshape(len(x),1)\n",
    "y = df_hardness['hardness'].as_matrix()\n",
    "lm = linear_model.LinearRegression()\n",
    "lm.fit(x, y)"
   ]
  },
  {
   "cell_type": "code",
   "execution_count": 5,
   "metadata": {
    "collapsed": true
   },
   "outputs": [],
   "source": [
    "prediction_y = lm.predict(x)"
   ]
  },
  {
   "cell_type": "code",
   "execution_count": 6,
   "metadata": {},
   "outputs": [
    {
     "data": {
      "image/png": "[encoded data removed]",
      "text/plain": [
       "<matplotlib.figure.Figure at 0x119de1dd8>"
      ]
     },
     "metadata": {},
     "output_type": "display_data"
    }
   ],
   "source": [
    "plt.scatter(df_hardness['time'], df_hardness['hardness'], color='black', label='observations')\n",
    "plt.plot(df_hardness['time'], prediction_y, color='blue', label='estimated')\n",
    "plt.legend()\n",
    "plt.xlabel('Elapsed Time (hours)')\n",
    "plt.ylabel('Hardness (Brinell Units)')\n",
    "plt.show()"
   ]
  },
  {
   "cell_type": "markdown",
   "metadata": {},
   "source": [
    "The estimated linear regression function appears to give a good fit. There doesn't seem to be an outliers of the data. The $x$-axis is non-continuous, though I'm not sure that's a problem yet. The range of the fit is between 15 and 40 hours"
   ]
  },
  {
   "cell_type": "markdown",
   "metadata": {},
   "source": [
    "b. Obtain a point estimate of the mean hardness when $X = 40$ hours.\n",
    "\n",
    "The point estimate of the mean hardness when $X = 40$ hours is given by\n",
    "\n",
    "$$E\\lbrack Y_{x=40}\\rbrack = b_0 + b_1(40)$$"
   ]
  },
  {
   "cell_type": "code",
   "execution_count": 7,
   "metadata": {},
   "outputs": [
    {
     "name": "stdout",
     "output_type": "stream",
     "text": [
      "[ 249.975]\n"
     ]
    }
   ],
   "source": [
    "Y = lm.intercept_ + lm.coef_*40\n",
    "print(Y)"
   ]
  },
  {
   "cell_type": "markdown",
   "metadata": {},
   "source": [
    "c. Obtain a point estimate of the change in mean hardness when $X$ increases by 1 hour"
   ]
  },
  {
   "cell_type": "code",
   "execution_count": 8,
   "metadata": {},
   "outputs": [
    {
     "name": "stdout",
     "output_type": "stream",
     "text": [
      "[ 2.034375]\n"
     ]
    }
   ],
   "source": [
    "Y_plus_one_hour = lm.intercept_ + lm.coef_*41\n",
    "change = Y_plus_one_hour - Y\n",
    "print(change)"
   ]
  },
  {
   "cell_type": "markdown",
   "metadata": {},
   "source": [
    "An increase in one hour of elapsed time results in approximately 2.03 brinell unit increase in hardness. This is simply the slope of the regression line."
   ]
  },
  {
   "cell_type": "markdown",
   "metadata": {},
   "source": [
    "# 1.26\n",
    "Refer to **Plastic hardness** Problem 1.22\n",
    "\n",
    "a. Obtain the residuals $e_i$. Do they sum to zero in accord with (1.17)?"
   ]
  },
  {
   "cell_type": "code",
   "execution_count": 9,
   "metadata": {
    "collapsed": true
   },
   "outputs": [],
   "source": [
    "residuals = y - prediction_y"
   ]
  },
  {
   "cell_type": "code",
   "execution_count": 10,
   "metadata": {},
   "outputs": [
    {
     "data": {
      "text/plain": [
       "-0.0"
      ]
     },
     "execution_count": 10,
     "metadata": {},
     "output_type": "execute_result"
    }
   ],
   "source": [
    "np.round(np.sum(residuals),2)"
   ]
  },
  {
   "cell_type": "markdown",
   "metadata": {},
   "source": [
    "The residuals sum to zero as expected.\n",
    "\n",
    "b. Estimate $\\sigma^2$ and $\\sigma$. In what units is $\\sigma$ expressed?\n",
    "\n",
    "The estimate of $\\sigma^2$ can be gotten from the $MSE$:\n",
    "\n",
    "$$\\hat{\\sigma}^2 = MSE = \\frac{\\sum(Y_i - \\hat{Y}_i)^2}{n-2}$$"
   ]
  },
  {
   "cell_type": "code",
   "execution_count": 11,
   "metadata": {},
   "outputs": [
    {
     "name": "stdout",
     "output_type": "stream",
     "text": [
      "10.4589285714\n",
      "3.23402668069\n"
     ]
    }
   ],
   "source": [
    "mse = np.sum(np.power(residuals,2))/(len(residuals)-2)\n",
    "print(mse)\n",
    "standard_deviation = np.sqrt(mse)\n",
    "print(standard_deviation)"
   ]
  },
  {
   "cell_type": "markdown",
   "metadata": {},
   "source": [
    "The standard deviation is in the same units as the response variable (Brinell units)"
   ]
  },
  {
   "cell_type": "markdown",
   "metadata": {},
   "source": [
    "# Bonus\n",
    "Identify the estimated standard error for each of the estimated intercept and slope and get a 95% confidence interval for each of $\\beta_0$ and $\\beta_1$. You can get the confidence intervals directly from R or SAS (or Python) but also write down how they are obtained from the point estimate, standard error and an appropriate t-value, showing what numerical values are involved.\n",
    "\n",
    "\n",
    "\n",
    "The estimated standard errors for the estimated intercept and slope are given as follows:\n",
    "\n",
    "$$\\sigma\\{b_1\\} = \\sqrt{\\frac{\\sigma^2}{\\sum (X_i - \\bar{X})^2}}$$ \n",
    "and\n",
    "$$\\sigma\\{b_0\\} = \\sqrt{\\sigma^2 \\lbrack\\frac{1}{2} + \\frac{\\bar{X}^2}{\\sum (X_i - \\bar{X})^2}\\rbrack}$$ \n",
    "\n",
    "both can be estimated by the point estimator $s^2\\{b_{10}\\}$:\n",
    "$$s\\{b_1\\} = \\sqrt{\\frac{MSE}{\\sum (X_i - \\bar{X})^2}}$$ \n",
    "and\n",
    "$$s\\{b_0\\} = \\sqrt{MSE \\lbrack\\frac{1}{n} + \\frac{\\bar{X}^2}{\\sum (X_i - \\bar{X})^2}\\rbrack}$$ \n"
   ]
  },
  {
   "cell_type": "code",
   "execution_count": 12,
   "metadata": {},
   "outputs": [
    {
     "name": "stdout",
     "output_type": "stream",
     "text": [
      "0.0903937937384\n"
     ]
    }
   ],
   "source": [
    "estimated_variance_b1 = mse/np.sum(np.power((x - np.mean(x)),2))\n",
    "estimated_standard_error_b1 = np.sqrt(estimated_variance_b1)\n",
    "print(estimated_standard_error_b1)"
   ]
  },
  {
   "cell_type": "code",
   "execution_count": 13,
   "metadata": {},
   "outputs": [
    {
     "name": "stdout",
     "output_type": "stream",
     "text": [
      "2.65702404688\n"
     ]
    }
   ],
   "source": [
    "estimated_variance_b0 = mse*((1/len(x)) + (np.power(np.mean(x),2)/np.sum(np.power(x - np.mean(x),2))))\n",
    "estimated_standard_error_b0 = np.sqrt(estimated_variance_b0)\n",
    "print(estimated_standard_error_b0)"
   ]
  },
  {
   "cell_type": "code",
   "execution_count": 14,
   "metadata": {
    "collapsed": true
   },
   "outputs": [],
   "source": [
    "alpha = 0.05\n",
    "\n",
    "b1_bounds = t.ppf(1-alpha/2, len(x)-2)*estimated_standard_error_b1\n",
    "b0_bounds = t.ppf(1-alpha/2, len(x)-2)*estimated_standard_error_b0"
   ]
  },
  {
   "cell_type": "code",
   "execution_count": 15,
   "metadata": {},
   "outputs": [
    {
     "name": "stdout",
     "output_type": "stream",
     "text": [
      "95% confidence interval for b0 is given by: 2.034 +/- 0.194\n",
      "95% confidence interval for b1 is given by: 168.6 +/- 5.699\n"
     ]
    }
   ],
   "source": [
    "print('95% confidence interval for b0 is given by: {int} +/- {int_bound}'.format(int=np.round(lm.coef_[0],3), int_bound=np.round(b1_bounds,3)))\n",
    "print('95% confidence interval for b1 is given by: {int} +/- {int_bound}'.format(int=np.round(lm.intercept_,3), int_bound=np.round(b0_bounds,3)))"
   ]
  },
  {
   "cell_type": "markdown",
   "metadata": {},
   "source": [
    "# 2.7\n",
    "Refer to the **Plastic hardness** Problem 1.22\n",
    "\n",
    "a. Estimate the change in mean hardness when the elapsed time increases by one hour. Use a 99 percent confidence interval. Interpret your interval estimate.\n",
    "\n",
    "The change in the mean hardness when the elapsed time increases by an hour is given by $b_1 = 2.034$. I will need to calculate the 99 percent confidence interval around this ${b_1}$.\n",
    "\n",
    "Note:\n",
    "\n",
    "$$E\\lbrack b_1 \\rbrack = \\beta_1$$\n",
    "$$\\sigma^2\\lbrack b_1 \\rbrack = \\frac{\\sigma^2}{\\sum (X_i - \\bar{X})^2}$$\n",
    "\n",
    "The latter can be estimated from:\n",
    "\n",
    "$$s^2\\lbrack b_1 \\rbrack = \\frac{MSE}{\\sum (X_i - \\bar{X})^2}$$"
   ]
  },
  {
   "cell_type": "code",
   "execution_count": 16,
   "metadata": {
    "collapsed": true
   },
   "outputs": [],
   "source": [
    "b = np.sum(np.power((x - np.mean(x)),2))\n",
    "variance = mse / b\n",
    "standard_error = np.sqrt(variance)"
   ]
  },
  {
   "cell_type": "code",
   "execution_count": 17,
   "metadata": {},
   "outputs": [
    {
     "name": "stdout",
     "output_type": "stream",
     "text": [
      "2.034375 +- 0.2690881080991692\n"
     ]
    }
   ],
   "source": [
    "new_bounds = t.ppf(1 - 0.01/2, len(x)-2)*standard_error\n",
    "print('{nm} +- {nb}'.format(nm=(lm.coef_)[0], nb=new_bounds))"
   ]
  },
  {
   "cell_type": "markdown",
   "metadata": {},
   "source": [
    "b. The plastic manufacturer has stated that the mean hardness should increase by 2 Brinell units per hour. Conduct a two-sided test to decided whether this standard is being satisfied; use $\\alpha = .01$. State the alternatives, decision rule, and conclusion. What is the *P*-value of the test?\n",
    "\n",
    "The two-sided test is defined as follows:\n",
    "\n",
    "$$H_0: t^* = 0$$\n",
    "$$H_a: t^* \\ne 0$$\n",
    "where\n",
    "$$t^* = \\frac{b_1 - 2}{s \\{b_1\\}}$$\n",
    "\n",
    "The decision rule is:\n",
    "\n",
    "If $|t^*| \\leq t(1-\\alpha/2;n-2)s\\{b_1\\}$, conclude $H_0$.\n",
    "\n",
    "If $|t^*| > t(1-\\alpha/2;n-2)s\\{b_1\\}$, conclude $H_a$."
   ]
  },
  {
   "cell_type": "code",
   "execution_count": 18,
   "metadata": {},
   "outputs": [
    {
     "name": "stdout",
     "output_type": "stream",
     "text": [
      "0.380280532306\n"
     ]
    }
   ],
   "source": [
    "alpha = 0.01 # Significance Level\n",
    "dof = len(x) # Degrees of freedom\n",
    "\n",
    "t_stat = (lm.coef_ - 2)/standard_error\n",
    "print(t_stat[0])"
   ]
  },
  {
   "cell_type": "code",
   "execution_count": 19,
   "metadata": {},
   "outputs": [
    {
     "data": {
      "text/plain": [
       "2.97684273411266"
      ]
     },
     "execution_count": 19,
     "metadata": {},
     "output_type": "execute_result"
    }
   ],
   "source": [
    "np.abs(t.ppf(1-(alpha/2), dof-2))"
   ]
  },
  {
   "cell_type": "markdown",
   "metadata": {},
   "source": [
    "Because $t^* = 0.38 < 2.98$, we reject the null hypothesis."
   ]
  },
  {
   "cell_type": "code",
   "execution_count": 20,
   "metadata": {},
   "outputs": [
    {
     "name": "stdout",
     "output_type": "stream",
     "text": [
      "70.94444557701097\n"
     ]
    }
   ],
   "source": [
    "pct = 2*t.sf(np.abs(t_stat), dof-2)[0]\n",
    "print('{pp}'.format(pp=100.0*pct))"
   ]
  },
  {
   "cell_type": "markdown",
   "metadata": {
    "collapsed": true
   },
   "source": [
    "# 2.16\n",
    "Refer to the **Plastic hardness** Problem 1.22\n",
    "\n",
    "a. Obtain a 98 percent confidence interval for the mean hardness of molded items with an elapsed time of 30 hours. Interpret your confidence interval.\n",
    "\n",
    "b. Obtain a 98 percent prediction interval for the hardness of a newly molded test item with\n",
    "an elapsed time of 30 hours.\n",
    "\n",
    "c. Obtain a 98 percent prediction interval for the mean hardness of 10 newly molded test items,\n",
    "each with an elapsed time of 30 hours.\n",
    "\n",
    "d. Is the prediction interval in part (c) narrower than the one in part (b)? Should it be?\n",
    "\n",
    "e. Determine the boundary values of the 98 percent confidence band for the regression line\n",
    "when $X_h = 30$. Is your confidence band wider at this point than the confidence interval in\n",
    "part (a)? Should it be?"
   ]
  },
  {
   "cell_type": "markdown",
   "metadata": {},
   "source": [
    "### a\n",
    "\n",
    "The interval can be given by $\\hat{Y}_h \\pm t(1-\\alpha/2;n-2)s\\{\\hat{Y}_h\\}$ \n",
    "\n",
    "where\n",
    "\n",
    "$s^2\\{\\hat{Y_h}\\} = MSE [\\frac{1}{n} + \\frac{(X_h - \\bar{X})^2}{\\sum(X_i - \\bar{X})^2}]$"
   ]
  },
  {
   "cell_type": "code",
   "execution_count": 21,
   "metadata": {
    "collapsed": true
   },
   "outputs": [],
   "source": [
    "part_a_var = mse*((1/len(x)) + (np.power(30-np.mean(x),2)/np.sum(np.power(x-np.mean(x),2))))\n",
    "y_hat_h = lm.intercept_ + lm.coef_*30\n",
    "alpha = 0.02\n",
    "dof = len(x)\n",
    "t_value = t.ppf(1-(alpha/2), dof-2)"
   ]
  },
  {
   "cell_type": "code",
   "execution_count": 22,
   "metadata": {},
   "outputs": [
    {
     "name": "stdout",
     "output_type": "stream",
     "text": [
      "2.17432196008\n",
      "229.63125\n",
      "227.45692804\n",
      "231.80557196\n"
     ]
    }
   ],
   "source": [
    "print(t_value*np.sqrt(part_a_var))\n",
    "print(y_hat_h[0])\n",
    "print(y_hat_h[0]-t_value*np.sqrt(part_a_var))\n",
    "print(y_hat_h[0]+t_value*np.sqrt(part_a_var))"
   ]
  },
  {
   "cell_type": "markdown",
   "metadata": {},
   "source": [
    "The 98% interval is given by $229.63 \\pm 2.17$"
   ]
  },
  {
   "cell_type": "markdown",
   "metadata": {},
   "source": [
    "### b\n",
    "\n",
    "The interval can be given by $\\hat{Y}_{h(new)} \\pm t(1-\\alpha/2;n-2)s\\{pred\\}$ \n",
    "\n",
    "where\n",
    "\n",
    "$s^2\\{pred\\} = MSE + s^2\\{\\hat{Y}_h\\}$"
   ]
  },
  {
   "cell_type": "code",
   "execution_count": 23,
   "metadata": {
    "collapsed": true
   },
   "outputs": [],
   "source": [
    "part_b_var = mse + part_a_var"
   ]
  },
  {
   "cell_type": "code",
   "execution_count": 24,
   "metadata": {},
   "outputs": [
    {
     "name": "stdout",
     "output_type": "stream",
     "text": [
      "8.76176083425\n",
      "220.869489166\n",
      "238.393010834\n"
     ]
    }
   ],
   "source": [
    "print(t_value*np.sqrt(part_b_var))\n",
    "print(y_hat_h[0] - t_value*np.sqrt(part_b_var))\n",
    "print(y_hat_h[0] + t_value*np.sqrt(part_b_var))"
   ]
  },
  {
   "cell_type": "markdown",
   "metadata": {},
   "source": [
    "### c\n",
    "\n",
    "The interval can be given by $\\hat{Y}_{h(new)} \\pm t(1-\\alpha/2;n-2)s\\{predmean\\}$ \n",
    "\n",
    "where\n",
    "\n",
    "$s^2\\{predmean\\} = \\frac{MSE}{m} + s^2\\{\\hat{Y}_{h}\\}$"
   ]
  },
  {
   "cell_type": "code",
   "execution_count": 25,
   "metadata": {
    "collapsed": true
   },
   "outputs": [],
   "source": [
    "part_c_var = (mse/10) + part_a_var"
   ]
  },
  {
   "cell_type": "code",
   "execution_count": 26,
   "metadata": {},
   "outputs": [
    {
     "name": "stdout",
     "output_type": "stream",
     "text": [
      "3.4542370618\n",
      "226.177012938\n",
      "233.085487062\n"
     ]
    }
   ],
   "source": [
    "print(t_value*np.sqrt(part_c_var))\n",
    "print(y_hat_h[0] - t_value*np.sqrt(part_c_var))\n",
    "print(y_hat_h[0] + t_value*np.sqrt(part_c_var))"
   ]
  },
  {
   "cell_type": "markdown",
   "metadata": {},
   "source": [
    "### d\n",
    "\n",
    "The interval of c is more narrow that d (3.45 compared to 8.76). The new value is based on 10 additional observations. This lowers the \"impact\" of the MSE on the variance."
   ]
  },
  {
   "cell_type": "markdown",
   "metadata": {},
   "source": [
    "### e\n",
    "\n",
    "The boundary values can be given by the Working-Hotelling procedure: \n",
    "\n",
    "$\\hat{Y}_h \\pm Ws{\\{\\hat{Y}_h\\}}$\n",
    "\n",
    "where\n",
    "\n",
    "$W^2 = 2F(1-\\alpha;2;n-2)$"
   ]
  },
  {
   "cell_type": "code",
   "execution_count": 27,
   "metadata": {},
   "outputs": [
    {
     "name": "stdout",
     "output_type": "stream",
     "text": [
      "229.63125\n",
      "2.68219278908\n",
      "232.313442789\n",
      "226.949057211\n"
     ]
    }
   ],
   "source": [
    "dubya = np.sqrt(2*f.ppf(1-alpha,2,len(x)-2))\n",
    "print(y_hat_h[0])\n",
    "print(np.sqrt(part_a_var)*dubya)\n",
    "print(y_hat_h[0]+np.sqrt(part_a_var)*dubya)\n",
    "print(y_hat_h[0]-np.sqrt(part_a_var)*dubya)"
   ]
  },
  {
   "cell_type": "markdown",
   "metadata": {},
   "source": [
    "The confidence band at $X_h = 30$ is wider than in part a. "
   ]
  },
  {
   "cell_type": "markdown",
   "metadata": {
    "collapsed": true
   },
   "source": [
    "### f\n",
    "Get a plot of the confidence intervals for $E(Y)$ and prediction intervals, plotted\n",
    "as a function of $X$."
   ]
  },
  {
   "cell_type": "code",
   "execution_count": 70,
   "metadata": {},
   "outputs": [],
   "source": [
    "# Calculate var{y_h} for each level h\n",
    "alpha = 0.02\n",
    "known_levels = np.unique(x)\n",
    "confidence_intervals_y = np.empty(16,)\n",
    "\n",
    "for i in range(len(x)):\n",
    "    h = x[i]\n",
    "    y_hat_var = mse*(np.power(h - np.mean(x),2) / np.sum(np.power((x-np.mean(x)),2)))\n",
    "    dubya = np.sqrt(2*f.ppf(1-alpha,2,len(x)-2))\n",
    "    confidence_interval_length = dubya*np.sqrt(y_hat_var)\n",
    "    confidence_intervals_y[i] = confidence_interval_length\n",
    "    \n",
    "prediction_intervals_y = np.empty(16,)\n",
    "\n",
    "# Calculate var{pred}\n",
    "for i in range(len(x)):\n",
    "    h = x[i]\n",
    "    y_hat_var = mse*(np.power(h - np.mean(x),2) / np.sum(np.power((x-np.mean(x)),2)))\n",
    "    y_pred = mse + y_hat_var\n",
    "    t_score = t.ppf(1-(alpha/2),len(x)-2)\n",
    "    prediction_interval_length = t_score*np.sqrt(y_hat_var)\n",
    "    prediction_intervals_y[i] = prediction_interval_length\n",
    "    \n",
    "# Create Bounds\n",
    "confidence_upper_bounds = np.empty(16,)\n",
    "confidence_lower_bounds = np.empty(16,)\n",
    "prediction_upper_bounds = np.empty(16,)\n",
    "prediction_lower_bounds = np.empty(16,)\n",
    "\n",
    "for i in range(len(x)):\n",
    "    h = x[i]\n",
    "    mean = lm.intercept_ + lm.coef_*h\n",
    "    confidence_upper_bounds[i] = mean + confidence_intervals_y[i]\n",
    "    confidence_lower_bounds[i] = mean - confidence_intervals_y[i]\n",
    "    prediction_upper_bounds[i] = mean + prediction_intervals_y[i]\n",
    "    prediction_lower_bounds[i] = mean - prediction_intervals_y[i]"
   ]
  },
  {
   "cell_type": "code",
   "execution_count": 74,
   "metadata": {},
   "outputs": [
    {
     "data": {
      "image/png": "[encoded data removed]",
      "text/plain": [
       "<matplotlib.figure.Figure at 0x11d8a0400>"
      ]
     },
     "metadata": {},
     "output_type": "display_data"
    }
   ],
   "source": [
    "plt.scatter(df_hardness['time'], df_hardness['hardness'], color='black', label='observations')\n",
    "plt.plot(df_hardness['time'], prediction_y, color='blue', label='estimated')\n",
    "plt.plot(df_hardness['time'], confidence_upper_bounds, color='gray', label='confidence (Upper)')\n",
    "plt.plot(df_hardness['time'], confidence_lower_bounds, color='gray', label='confidence (Lower)')\n",
    "plt.plot(df_hardness['time'], prediction_upper_bounds, color='lightgray', label='prediction (Upper)')\n",
    "plt.plot(df_hardness['time'], prediction_lower_bounds, color='lightgray', label='prediction (Lower)')\n",
    "plt.legend()\n",
    "plt.xlabel('Elapsed Time (hours)')\n",
    "plt.ylabel('Hardness (Brinell Units)')\n",
    "plt.show()"
   ]
  },
  {
   "cell_type": "code",
   "execution_count": null,
   "metadata": {
    "collapsed": true
   },
   "outputs": [],
   "source": []
  }
 ],
 "metadata": {
  "kernelspec": {
   "display_name": "Python [default]",
   "language": "python",
   "name": "python3"
  },
  "language_info": {
   "codemirror_mode": {
    "name": "ipython",
    "version": 3
   },
   "file_extension": ".py",
   "mimetype": "text/x-python",
   "name": "python",
   "nbconvert_exporter": "python",
   "pygments_lexer": "ipython3",
   "version": "3.6.1"
  }
 },
 "nbformat": 4,
 "nbformat_minor": 2
}
