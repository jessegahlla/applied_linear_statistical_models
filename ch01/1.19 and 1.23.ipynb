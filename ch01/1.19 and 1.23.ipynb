{
 "cells": [
  {
   "cell_type": "code",
   "execution_count": 1,
   "metadata": {
    "collapsed": true
   },
   "outputs": [],
   "source": [
    "import numpy as np\n",
    "from sklearn import linear_model\n",
    "import matplotlib.pyplot as plt\n",
    "import pandas as pd"
   ]
  },
  {
   "cell_type": "markdown",
   "metadata": {},
   "source": [
    "### 1.19 and 1.23"
   ]
  },
  {
   "cell_type": "code",
   "execution_count": 2,
   "metadata": {
    "collapsed": true
   },
   "outputs": [],
   "source": [
    "gpa_act_data = pd.read_csv('./CH01PR19.txt', delim_whitespace=True, header=None)\n",
    "gpa_act_data.columns = ['gpa','act']"
   ]
  },
  {
   "cell_type": "code",
   "execution_count": 3,
   "metadata": {
    "collapsed": true
   },
   "outputs": [],
   "source": [
    "# Obtain the least squares estimates of B_0 and B_1\n",
    "# and state the estimated regression function.\n",
    "\n",
    "x_act_score = gpa_act_data['act'].as_matrix()\n",
    "x_act_score = x_act_score.reshape(len(x_act_score),1)\n",
    "y_gpa_score = gpa_act_data['gpa'].as_matrix()\n",
    "\n",
    "regr = linear_model.LinearRegression()"
   ]
  },
  {
   "cell_type": "code",
   "execution_count": 4,
   "metadata": {},
   "outputs": [
    {
     "data": {
      "text/plain": [
       "LinearRegression(copy_X=True, fit_intercept=True, n_jobs=1, normalize=False)"
      ]
     },
     "execution_count": 4,
     "metadata": {},
     "output_type": "execute_result"
    }
   ],
   "source": [
    "regr.fit(X=x_act_score, y=y_gpa_score)"
   ]
  },
  {
   "cell_type": "code",
   "execution_count": 5,
   "metadata": {},
   "outputs": [
    {
     "name": "stdout",
     "output_type": "stream",
     "text": [
      "Intercept: 2.114049287267456\n",
      "Slope: [ 0.03882713]\n"
     ]
    }
   ],
   "source": [
    "print('Intercept: {i}\\nSlope: {s}'.format(i=regr.intercept_, s=regr.coef_))"
   ]
  },
  {
   "cell_type": "code",
   "execution_count": 6,
   "metadata": {
    "collapsed": true
   },
   "outputs": [],
   "source": [
    "# Plot the score prediction and the data\n",
    "y_gpa_score_prediction = regr.predict(x_act_score)"
   ]
  },
  {
   "cell_type": "code",
   "execution_count": 7,
   "metadata": {},
   "outputs": [
    {
     "data": {
      "image/png": "[encoded data removed]",
      "text/plain": [
       "<matplotlib.figure.Figure at 0x1170b1198>"
      ]
     },
     "metadata": {},
     "output_type": "display_data"
    }
   ],
   "source": [
    "plt.scatter(gpa_act_data['act'], gpa_act_data['gpa'], color='black')\n",
    "plt.plot(gpa_act_data['act'], y_gpa_score_prediction, color='purple', label='Prediction')\n",
    "plt.ylabel('GPA Score')\n",
    "plt.xlabel('ACT Score')\n",
    "plt.legend()\n",
    "plt.title('Prediction GPA from ACT')\n",
    "plt.show()"
   ]
  },
  {
   "cell_type": "code",
   "execution_count": 8,
   "metadata": {},
   "outputs": [
    {
     "name": "stdout",
     "output_type": "stream",
     "text": [
      "3.27886309443\n"
     ]
    }
   ],
   "source": [
    "# Point estimate of the mean freshman GPA for students\n",
    "# with ACT test score X = 30\n",
    "\n",
    "score = regr.intercept_ + regr.coef_[0]*30\n",
    "print(score)"
   ]
  },
  {
   "cell_type": "code",
   "execution_count": 9,
   "metadata": {},
   "outputs": [
    {
     "name": "stdout",
     "output_type": "stream",
     "text": [
      "3.31769022133\n"
     ]
    }
   ],
   "source": [
    "score_plus_one = regr.intercept_ + regr.coef_[0]*31\n",
    "print(score_plus_one)"
   ]
  },
  {
   "cell_type": "code",
   "execution_count": 10,
   "metadata": {},
   "outputs": [
    {
     "name": "stdout",
     "output_type": "stream",
     "text": [
      "0.0388271269053\n",
      "0.0388271269053\n"
     ]
    }
   ],
   "source": [
    "# The difference between the predictor and the predictor plus 1 unit\n",
    "# is equal to the coefficient of the regression\n",
    "print(score_plus_one-score)\n",
    "print(regr.coef_[0])"
   ]
  },
  {
   "cell_type": "markdown",
   "metadata": {
    "collapsed": true
   },
   "source": [
    "### 1.23"
   ]
  },
  {
   "cell_type": "code",
   "execution_count": 19,
   "metadata": {},
   "outputs": [
    {
     "name": "stdout",
     "output_type": "stream",
     "text": [
      "-0.0\n"
     ]
    }
   ],
   "source": [
    "residuals = y_gpa_score - np.mean(y_gpa_score)\n",
    "sum_of_residuals = np.sum(residuals)\n",
    "print(np.round(sum_of_residuals,2))"
   ]
  },
  {
   "cell_type": "code",
   "execution_count": 29,
   "metadata": {},
   "outputs": [
    {
     "name": "stdout",
     "output_type": "stream",
     "text": [
      "0.418690285593\n",
      "0.647062814256\n"
     ]
    }
   ],
   "source": [
    "sum_of_squares = np.sum(np.power(residuals,2))\n",
    "mean_squared_error = sum_of_squares/(len(y_gpa_score)-2)\n",
    "print(mean_squared_error)\n",
    "std = np.sqrt(mean_squared_error)\n",
    "print(std)"
   ]
  },
  {
   "cell_type": "code",
   "execution_count": 30,
   "metadata": {},
   "outputs": [
    {
     "name": "stdout",
     "output_type": "stream",
     "text": [
      "The standard deviation is in the same units as the original dependent variable, in this case, GPA\n"
     ]
    }
   ],
   "source": [
    "print(\"The standard deviation is in the same units as the original dependent variable, in this case, GPA\")"
   ]
  },
  {
   "cell_type": "code",
   "execution_count": null,
   "metadata": {
    "collapsed": true
   },
   "outputs": [],
   "source": []
  }
 ],
 "metadata": {
  "kernelspec": {
   "display_name": "Python 3",
   "language": "python",
   "name": "python3"
  },
  "language_info": {
   "codemirror_mode": {
    "name": "ipython",
    "version": 3
   },
   "file_extension": ".py",
   "mimetype": "text/x-python",
   "name": "python",
   "nbconvert_exporter": "python",
   "pygments_lexer": "ipython3",
   "version": "3.6.1"
  }
 },
 "nbformat": 4,
 "nbformat_minor": 2
}
